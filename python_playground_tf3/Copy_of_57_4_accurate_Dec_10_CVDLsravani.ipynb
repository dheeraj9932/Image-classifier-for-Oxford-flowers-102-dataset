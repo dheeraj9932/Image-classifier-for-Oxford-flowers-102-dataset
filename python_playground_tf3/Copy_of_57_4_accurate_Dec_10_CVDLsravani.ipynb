{
  "nbformat": 4,
  "nbformat_minor": 0,
  "metadata": {
    "accelerator": "GPU",
    "colab": {
      "name": "Copy of 57.4 accurate Dec 10 CVDLsravani.ipynb",
      "provenance": [],
      "collapsed_sections": []
    },
    "kernelspec": {
      "name": "python3",
      "display_name": "Python 3"
    },
    "language_info": {
      "codemirror_mode": {
        "name": "ipython",
        "version": 3
      },
      "file_extension": ".py",
      "mimetype": "text/x-python",
      "name": "python",
      "nbconvert_exporter": "python",
      "pygments_lexer": "ipython3",
      "version": "3.7.4"
    }
  },
  "cells": [
    {
      "cell_type": "code",
      "metadata": {
        "colab_type": "code",
        "id": "n8u0SN514G3x",
        "colab": {}
      },
      "source": [
        ""
      ],
      "execution_count": 0,
      "outputs": []
    },
    {
      "cell_type": "code",
      "metadata": {
        "colab_type": "code",
        "id": "le8zxs_oHJvQ",
        "colab": {}
      },
      "source": [
        "#%tensorflow_version 2.x\n",
        "import tensorflow as tf\n",
        "import pathlib\n",
        "import matplotlib.pyplot as plt\n",
        "import numpy as np\n",
        "from google.colab import drive\n",
        "import os\n",
        "from tensorflow.keras import datasets\n",
        "from tensorflow.keras.layers import Input, Dense, Conv2D,Flatten,MaxPooling2D,Dropout\n",
        "from tensorflow.keras.models import Sequential\n",
        "from tensorflow.keras.regularizers import l2\n",
        "from tensorflow.keras.optimizers import Adam\n"
      ],
      "execution_count": 0,
      "outputs": []
    },
    {
      "cell_type": "code",
      "metadata": {
        "colab_type": "code",
        "id": "7vf9jiERHPNu",
        "outputId": "8f0c508c-9ed2-4707-921f-500c587ad9d1",
        "colab": {
          "base_uri": "https://localhost:8080/",
          "height": 34
        }
      },
      "source": [
        "from google.colab import drive\n",
        "drive.mount('/content/drive')\n"
      ],
      "execution_count": 0,
      "outputs": [
        {
          "output_type": "stream",
          "text": [
            "Drive already mounted at /content/drive; to attempt to forcibly remount, call drive.mount(\"/content/drive\", force_remount=True).\n"
          ],
          "name": "stdout"
        }
      ]
    },
    {
      "cell_type": "code",
      "metadata": {
        "colab_type": "code",
        "id": "EITX2_pwH6hH",
        "colab": {}
      },
      "source": [
        "import os\n",
        "#os.chdir(\"/content/drive/My Drive/Colab Notebooks\")"
      ],
      "execution_count": 0,
      "outputs": []
    },
    {
      "cell_type": "code",
      "metadata": {
        "colab_type": "code",
        "id": "Jk5Xu7kVIKAs",
        "colab": {}
      },
      "source": [
        "data_dir=pathlib.Path('/content/drive/My Drive/train')\n",
        "valid_dir=pathlib.Path('/content/drive/My Drive/valid')\n",
        "test_dir  =pathlib.Path('/content/drive/My Drive/test')\n",
        "# image_count = len(list(data_dir.glob('*/*.jpg')))"
      ],
      "execution_count": 0,
      "outputs": []
    },
    {
      "cell_type": "code",
      "metadata": {
        "colab_type": "code",
        "id": "CItIId3mUlRI",
        "colab": {}
      },
      "source": [
        "image_generator = tf.keras.preprocessing.image.ImageDataGenerator(rotation_range=10,width_shift_range=0.2,height_shift_range=0.1,shear_range=0.15,zoom_range=0.1,channel_shift_range=10,horizontal_flip=True, rescale=1./255)\n",
        "image_generator_2 = tf.keras.preprocessing.image.ImageDataGenerator(rescale=1./255)\n",
        "image_generator_1 = tf.keras.preprocessing.image.ImageDataGenerator(rescale=1./255)\n",
        "\n",
        "\n",
        "BATCH_SIZE = 64\n",
        "IMG_HEIGHT = 224\n",
        "IMG_WIDTH = 224\n",
        "# STEPS_PER_EPOCH = np.ceil(image_count/BATCH_SIZE)\n",
        "CLASS_NAMES = np.array([item.name for item in data_dir.glob('*') if item.name != \".DS_Store\"])\n"
      ],
      "execution_count": 0,
      "outputs": []
    },
    {
      "cell_type": "code",
      "metadata": {
        "colab_type": "code",
        "id": "hAx4PclbUwG4",
        "outputId": "c0129382-05a8-40eb-9ca0-1997e359a31b",
        "colab": {
          "base_uri": "https://localhost:8080/",
          "height": 85
        }
      },
      "source": [
        "train_data_gen = image_generator.flow_from_directory(directory=str(data_dir),\n",
        "                                                     batch_size=64,\n",
        "                                                     shuffle=True,\n",
        "                                                     target_size=(IMG_HEIGHT, IMG_WIDTH),\n",
        "                                                     classes = list(CLASS_NAMES),class_mode='categorical')\n",
        "valid_data_gen = image_generator_2.flow_from_directory(directory=str(valid_dir),\n",
        "                                                     batch_size=64,\n",
        "                                                     shuffle=True,\n",
        "                                                     target_size=(IMG_HEIGHT, IMG_WIDTH),\n",
        "                                                      classes = list(CLASS_NAMES), class_mode='categorical')\n",
        "test_data_gen = image_generator_1.flow_from_directory(directory=str(test_dir),\n",
        "                                                     batch_size=64,\n",
        "                                                     shuffle=True,\n",
        "                                                     target_size=(IMG_HEIGHT, IMG_WIDTH),\n",
        "                                                      classes = list(CLASS_NAMES), class_mode='categorical')\n",
        "train_data_gen\n",
        "valid_data_gen"
      ],
      "execution_count": 0,
      "outputs": [
        {
          "output_type": "stream",
          "text": [
            "Found 4874 images belonging to 102 classes.\n",
            "Found 1633 images belonging to 102 classes.\n",
            "Found 1690 images belonging to 102 classes.\n"
          ],
          "name": "stdout"
        },
        {
          "output_type": "execute_result",
          "data": {
            "text/plain": [
              "<keras_preprocessing.image.directory_iterator.DirectoryIterator at 0x7ff6bcfb5a20>"
            ]
          },
          "metadata": {
            "tags": []
          },
          "execution_count": 58
        }
      ]
    },
    {
      "cell_type": "code",
      "metadata": {
        "colab_type": "code",
        "id": "Ln5j5_bjBazS",
        "colab": {}
      },
      "source": [
        "  model = Sequential()\n",
        "model.add(Conv2D(32, (3, 3), activation='relu', padding='same', input_shape=(224, 224, 3)))\n",
        "  \n",
        "model.add(Conv2D(32, (3, 3), activation='relu', padding='same'))\n",
        "  \n",
        "model.add(MaxPooling2D((2, 2)))\n",
        "model.add(Dropout(0.1))\n",
        "model.add(Conv2D(64, (3, 3), activation='relu', padding='same'))\n",
        "  \n",
        "model.add(Conv2D(64, (3, 3), activation='relu', padding='same'))\n",
        "  \n",
        "model.add(MaxPooling2D((2, 2)))\n",
        "model.add(Dropout(0.1))\n",
        "model.add(Conv2D(128, (3, 3), activation='relu', padding='same'))\n",
        "  \n",
        "model.add(Conv2D(128, (3, 3), activation='relu',  padding='same'))\n",
        "  \n",
        "model.add(MaxPooling2D((2, 2)))\n",
        "model.add(Dropout(0.1))\n",
        "model.add(Conv2D(256, (3, 3), activation='relu', padding='same'))\n",
        "model.add(Conv2D(256, (3, 3), activation='relu', padding='same'))\n",
        "  \n",
        "\n",
        "  \n",
        "model.add(MaxPooling2D((2, 2)))\n",
        "model.add(Dropout(0.1))\n",
        "\n",
        "\n",
        "model.add(Conv2D(256, (3, 3), activation='relu', padding='same'))\n",
        "  \n",
        "model.add(Conv2D(256, (3, 3), activation='relu',  padding='same'))\n",
        "\n",
        "model.add(MaxPooling2D((2, 2)))\n",
        "model.add(Dropout(0.1))\n",
        "\n",
        "\n",
        "model.add(Flatten())\n",
        "model.add(Dense(128, activation='relu') )\n",
        "  \n",
        "model.add(Dropout(0.1))\n",
        "model.add(Dense(102, activation='softmax'))\n",
        "\n",
        "opt = tf.keras.optimizers.Adam(learning_rate=0.001)\n",
        "model.compile(optimizer=opt, loss='categorical_crossentropy', metrics=['accuracy']) \n",
        "\n",
        "\n",
        "\n",
        "\n",
        "\n",
        "\n"
      ],
      "execution_count": 0,
      "outputs": []
    },
    {
      "cell_type": "code",
      "metadata": {
        "id": "utj6Y18uQZyH",
        "colab_type": "code",
        "outputId": "4ca98fab-58ed-41b0-8d0e-64cf8aeabdf8",
        "colab": {
          "base_uri": "https://localhost:8080/",
          "height": 969
        }
      },
      "source": [
        "  model.summary()\n",
        "\n",
        "\n"
      ],
      "execution_count": 0,
      "outputs": [
        {
          "output_type": "stream",
          "text": [
            "Model: \"sequential_5\"\n",
            "_________________________________________________________________\n",
            "Layer (type)                 Output Shape              Param #   \n",
            "=================================================================\n",
            "conv2d_50 (Conv2D)           (None, 224, 224, 32)      896       \n",
            "_________________________________________________________________\n",
            "conv2d_51 (Conv2D)           (None, 224, 224, 32)      9248      \n",
            "_________________________________________________________________\n",
            "max_pooling2d_25 (MaxPooling (None, 112, 112, 32)      0         \n",
            "_________________________________________________________________\n",
            "dropout_30 (Dropout)         (None, 112, 112, 32)      0         \n",
            "_________________________________________________________________\n",
            "conv2d_52 (Conv2D)           (None, 112, 112, 64)      18496     \n",
            "_________________________________________________________________\n",
            "conv2d_53 (Conv2D)           (None, 112, 112, 64)      36928     \n",
            "_________________________________________________________________\n",
            "max_pooling2d_26 (MaxPooling (None, 56, 56, 64)        0         \n",
            "_________________________________________________________________\n",
            "dropout_31 (Dropout)         (None, 56, 56, 64)        0         \n",
            "_________________________________________________________________\n",
            "conv2d_54 (Conv2D)           (None, 56, 56, 128)       73856     \n",
            "_________________________________________________________________\n",
            "conv2d_55 (Conv2D)           (None, 56, 56, 128)       147584    \n",
            "_________________________________________________________________\n",
            "max_pooling2d_27 (MaxPooling (None, 28, 28, 128)       0         \n",
            "_________________________________________________________________\n",
            "dropout_32 (Dropout)         (None, 28, 28, 128)       0         \n",
            "_________________________________________________________________\n",
            "conv2d_56 (Conv2D)           (None, 28, 28, 256)       295168    \n",
            "_________________________________________________________________\n",
            "conv2d_57 (Conv2D)           (None, 28, 28, 256)       590080    \n",
            "_________________________________________________________________\n",
            "max_pooling2d_28 (MaxPooling (None, 14, 14, 256)       0         \n",
            "_________________________________________________________________\n",
            "dropout_33 (Dropout)         (None, 14, 14, 256)       0         \n",
            "_________________________________________________________________\n",
            "conv2d_58 (Conv2D)           (None, 14, 14, 256)       590080    \n",
            "_________________________________________________________________\n",
            "conv2d_59 (Conv2D)           (None, 14, 14, 256)       590080    \n",
            "_________________________________________________________________\n",
            "max_pooling2d_29 (MaxPooling (None, 7, 7, 256)         0         \n",
            "_________________________________________________________________\n",
            "dropout_34 (Dropout)         (None, 7, 7, 256)         0         \n",
            "_________________________________________________________________\n",
            "flatten_5 (Flatten)          (None, 12544)             0         \n",
            "_________________________________________________________________\n",
            "dense_10 (Dense)             (None, 128)               1605760   \n",
            "_________________________________________________________________\n",
            "dropout_35 (Dropout)         (None, 128)               0         \n",
            "_________________________________________________________________\n",
            "dense_11 (Dense)             (None, 102)               13158     \n",
            "=================================================================\n",
            "Total params: 3,971,334\n",
            "Trainable params: 3,971,334\n",
            "Non-trainable params: 0\n",
            "_________________________________________________________________\n"
          ],
          "name": "stdout"
        }
      ]
    },
    {
      "cell_type": "code",
      "metadata": {
        "colab_type": "code",
        "id": "Sk0uHUTlHOYj",
        "outputId": "9913a96f-5a08-4c9a-c8d6-809cccf8549d",
        "colab": {
          "base_uri": "https://localhost:8080/",
          "height": 1000
        }
      },
      "source": [
        "model.fit_generator(generator=train_data_gen,\n",
        "                   validation_data= valid_data_gen,\n",
        "    steps_per_epoch=77,\n",
        "    epochs=100\n",
        ")"
      ],
      "execution_count": 0,
      "outputs": [
        {
          "output_type": "stream",
          "text": [
            "Epoch 1/100\n",
            "76/77 [============================>.] - ETA: 0s - loss: 4.5855 - acc: 0.0185Epoch 1/100\n",
            "77/77 [==============================] - 91s 1s/step - loss: 4.5841 - acc: 0.0185 - val_loss: 4.4953 - val_acc: 0.0374\n",
            "Epoch 2/100\n",
            "76/77 [============================>.] - ETA: 0s - loss: 4.5231 - acc: 0.0274Epoch 1/100\n",
            "77/77 [==============================] - 82s 1s/step - loss: 4.5229 - acc: 0.0277 - val_loss: 4.4945 - val_acc: 0.0306\n",
            "Epoch 3/100\n",
            "76/77 [============================>.] - ETA: 0s - loss: 4.4396 - acc: 0.0470Epoch 1/100\n",
            "77/77 [==============================] - 82s 1s/step - loss: 4.4392 - acc: 0.0476 - val_loss: 4.2650 - val_acc: 0.0655\n",
            "Epoch 4/100\n",
            "76/77 [============================>.] - ETA: 0s - loss: 4.1795 - acc: 0.0649Epoch 1/100\n",
            "77/77 [==============================] - 82s 1s/step - loss: 4.1804 - acc: 0.0652 - val_loss: 4.0729 - val_acc: 0.0680\n",
            "Epoch 5/100\n",
            "76/77 [============================>.] - ETA: 0s - loss: 4.0048 - acc: 0.0709Epoch 1/100\n",
            "77/77 [==============================] - 82s 1s/step - loss: 4.0039 - acc: 0.0714 - val_loss: 3.9497 - val_acc: 0.0802\n",
            "Epoch 6/100\n",
            "76/77 [============================>.] - ETA: 0s - loss: 3.8612 - acc: 0.0892Epoch 1/100\n",
            "77/77 [==============================] - 82s 1s/step - loss: 3.8587 - acc: 0.0899 - val_loss: 3.8304 - val_acc: 0.1078\n",
            "Epoch 7/100\n",
            "76/77 [============================>.] - ETA: 0s - loss: 3.7326 - acc: 0.1119Epoch 1/100\n",
            "77/77 [==============================] - 82s 1s/step - loss: 3.7310 - acc: 0.1120 - val_loss: 3.6602 - val_acc: 0.1470\n",
            "Epoch 8/100\n",
            "76/77 [============================>.] - ETA: 0s - loss: 3.5608 - acc: 0.1405Epoch 1/100\n",
            "77/77 [==============================] - 82s 1s/step - loss: 3.5611 - acc: 0.1410 - val_loss: 3.5197 - val_acc: 0.1506\n",
            "Epoch 9/100\n",
            "76/77 [============================>.] - ETA: 0s - loss: 3.4415 - acc: 0.1561Epoch 1/100\n",
            "77/77 [==============================] - 82s 1s/step - loss: 3.4427 - acc: 0.1557 - val_loss: 3.4920 - val_acc: 0.1415\n",
            "Epoch 10/100\n",
            "76/77 [============================>.] - ETA: 0s - loss: 3.3318 - acc: 0.1757Epoch 1/100\n",
            "77/77 [==============================] - 82s 1s/step - loss: 3.3293 - acc: 0.1760 - val_loss: 3.4251 - val_acc: 0.1629\n",
            "Epoch 11/100\n",
            "76/77 [============================>.] - ETA: 0s - loss: 3.2044 - acc: 0.1952Epoch 1/100\n",
            "77/77 [==============================] - 82s 1s/step - loss: 3.2022 - acc: 0.1955 - val_loss: 3.1974 - val_acc: 0.2039\n",
            "Epoch 12/100\n",
            "76/77 [============================>.] - ETA: 0s - loss: 3.1577 - acc: 0.2031Epoch 1/100\n",
            "77/77 [==============================] - 82s 1s/step - loss: 3.1556 - acc: 0.2041 - val_loss: 3.1392 - val_acc: 0.2113\n",
            "Epoch 13/100\n",
            "76/77 [============================>.] - ETA: 0s - loss: 3.0900 - acc: 0.2148Epoch 1/100\n",
            "77/77 [==============================] - 81s 1s/step - loss: 3.0853 - acc: 0.2162 - val_loss: 3.1305 - val_acc: 0.2058\n",
            "Epoch 14/100\n",
            "76/77 [============================>.] - ETA: 0s - loss: 2.9800 - acc: 0.2333Epoch 1/100\n",
            "77/77 [==============================] - 81s 1s/step - loss: 2.9780 - acc: 0.2329 - val_loss: 3.0230 - val_acc: 0.2376\n",
            "Epoch 15/100\n",
            "76/77 [============================>.] - ETA: 0s - loss: 2.8891 - acc: 0.2518Epoch 1/100\n",
            "77/77 [==============================] - 82s 1s/step - loss: 2.8928 - acc: 0.2511 - val_loss: 2.9319 - val_acc: 0.2590\n",
            "Epoch 16/100\n",
            "76/77 [============================>.] - ETA: 0s - loss: 2.8074 - acc: 0.2692Epoch 1/100\n",
            "77/77 [==============================] - 82s 1s/step - loss: 2.8080 - acc: 0.2694 - val_loss: 2.8345 - val_acc: 0.2866\n",
            "Epoch 17/100\n",
            "76/77 [============================>.] - ETA: 0s - loss: 2.7919 - acc: 0.2705Epoch 1/100\n",
            "77/77 [==============================] - 82s 1s/step - loss: 2.7940 - acc: 0.2702 - val_loss: 2.8532 - val_acc: 0.2805\n",
            "Epoch 18/100\n",
            "76/77 [============================>.] - ETA: 0s - loss: 2.7038 - acc: 0.2890Epoch 1/100\n",
            "77/77 [==============================] - 81s 1s/step - loss: 2.7068 - acc: 0.2883 - val_loss: 2.8399 - val_acc: 0.2805\n",
            "Epoch 19/100\n",
            "76/77 [============================>.] - ETA: 0s - loss: 2.6271 - acc: 0.3091Epoch 1/100\n",
            "77/77 [==============================] - 82s 1s/step - loss: 2.6287 - acc: 0.3088 - val_loss: 2.7150 - val_acc: 0.3031\n",
            "Epoch 20/100\n",
            "76/77 [============================>.] - ETA: 0s - loss: 2.5759 - acc: 0.3137Epoch 1/100\n",
            "77/77 [==============================] - 81s 1s/step - loss: 2.5755 - acc: 0.3141 - val_loss: 2.6509 - val_acc: 0.3203\n",
            "Epoch 21/100\n",
            "76/77 [============================>.] - ETA: 0s - loss: 2.5055 - acc: 0.3262Epoch 1/100\n",
            "77/77 [==============================] - 81s 1s/step - loss: 2.5046 - acc: 0.3260 - val_loss: 2.6747 - val_acc: 0.3160\n",
            "Epoch 22/100\n",
            "76/77 [============================>.] - ETA: 0s - loss: 2.4677 - acc: 0.3420Epoch 1/100\n",
            "77/77 [==============================] - 81s 1s/step - loss: 2.4694 - acc: 0.3426 - val_loss: 2.7001 - val_acc: 0.3160\n",
            "Epoch 23/100\n",
            "76/77 [============================>.] - ETA: 0s - loss: 2.3803 - acc: 0.3678Epoch 1/100\n",
            "77/77 [==============================] - 81s 1s/step - loss: 2.3789 - acc: 0.3670 - val_loss: 2.4786 - val_acc: 0.3570\n",
            "Epoch 24/100\n",
            "76/77 [============================>.] - ETA: 0s - loss: 2.3314 - acc: 0.3746Epoch 1/100\n",
            "77/77 [==============================] - 81s 1s/step - loss: 2.3304 - acc: 0.3753 - val_loss: 2.5933 - val_acc: 0.3417\n",
            "Epoch 25/100\n",
            "76/77 [============================>.] - ETA: 0s - loss: 2.2865 - acc: 0.3800Epoch 1/100\n",
            "77/77 [==============================] - 81s 1s/step - loss: 2.2859 - acc: 0.3814 - val_loss: 2.5160 - val_acc: 0.3478\n",
            "Epoch 26/100\n",
            "76/77 [============================>.] - ETA: 0s - loss: 2.2271 - acc: 0.4050Epoch 1/100\n",
            "77/77 [==============================] - 81s 1s/step - loss: 2.2276 - acc: 0.4050 - val_loss: 2.4111 - val_acc: 0.3570\n",
            "Epoch 27/100\n",
            "76/77 [============================>.] - ETA: 0s - loss: 2.2231 - acc: 0.3846Epoch 1/100\n",
            "77/77 [==============================] - 81s 1s/step - loss: 2.2224 - acc: 0.3843 - val_loss: 2.4311 - val_acc: 0.3717\n",
            "Epoch 28/100\n",
            "76/77 [============================>.] - ETA: 0s - loss: 2.1531 - acc: 0.4148Epoch 1/100\n",
            "77/77 [==============================] - 81s 1s/step - loss: 2.1501 - acc: 0.4157 - val_loss: 2.3183 - val_acc: 0.3968\n",
            "Epoch 29/100\n",
            "76/77 [============================>.] - ETA: 0s - loss: 2.1147 - acc: 0.4218Epoch 1/100\n",
            "77/77 [==============================] - 82s 1s/step - loss: 2.1161 - acc: 0.4210 - val_loss: 2.4148 - val_acc: 0.3637\n",
            "Epoch 30/100\n",
            "76/77 [============================>.] - ETA: 0s - loss: 2.0678 - acc: 0.4356Epoch 1/100\n",
            "77/77 [==============================] - 82s 1s/step - loss: 2.0657 - acc: 0.4354 - val_loss: 2.2795 - val_acc: 0.4091\n",
            "Epoch 31/100\n",
            "76/77 [============================>.] - ETA: 0s - loss: 2.0500 - acc: 0.4430Epoch 1/100\n",
            "77/77 [==============================] - 82s 1s/step - loss: 2.0524 - acc: 0.4419 - val_loss: 2.3364 - val_acc: 0.3980\n",
            "Epoch 32/100\n",
            "76/77 [============================>.] - ETA: 0s - loss: 2.0071 - acc: 0.4474Epoch 1/100\n",
            "77/77 [==============================] - 82s 1s/step - loss: 2.0067 - acc: 0.4477 - val_loss: 2.2318 - val_acc: 0.4078\n",
            "Epoch 33/100\n",
            "76/77 [============================>.] - ETA: 0s - loss: 1.9669 - acc: 0.4634Epoch 1/100\n",
            "77/77 [==============================] - 82s 1s/step - loss: 1.9700 - acc: 0.4631 - val_loss: 2.2177 - val_acc: 0.4293\n",
            "Epoch 34/100\n",
            "76/77 [============================>.] - ETA: 0s - loss: 1.9054 - acc: 0.4701Epoch 1/100\n",
            "77/77 [==============================] - 82s 1s/step - loss: 1.9087 - acc: 0.4698 - val_loss: 2.1574 - val_acc: 0.4348\n",
            "Epoch 35/100\n",
            "76/77 [============================>.] - ETA: 0s - loss: 1.9016 - acc: 0.4692Epoch 1/100\n",
            "77/77 [==============================] - 82s 1s/step - loss: 1.9015 - acc: 0.4690 - val_loss: 2.1723 - val_acc: 0.4378\n",
            "Epoch 36/100\n",
            "76/77 [============================>.] - ETA: 0s - loss: 1.8222 - acc: 0.4886Epoch 1/100\n",
            "77/77 [==============================] - 81s 1s/step - loss: 1.8221 - acc: 0.4891 - val_loss: 2.1726 - val_acc: 0.4464\n",
            "Epoch 37/100\n",
            "76/77 [============================>.] - ETA: 0s - loss: 1.8548 - acc: 0.4840Epoch 1/100\n",
            "77/77 [==============================] - 82s 1s/step - loss: 1.8486 - acc: 0.4854 - val_loss: 2.0826 - val_acc: 0.4691\n",
            "Epoch 38/100\n",
            "76/77 [============================>.] - ETA: 0s - loss: 1.7550 - acc: 0.5112Epoch 1/100\n",
            "77/77 [==============================] - 82s 1s/step - loss: 1.7544 - acc: 0.5111 - val_loss: 2.0536 - val_acc: 0.4715\n",
            "Epoch 39/100\n",
            "76/77 [============================>.] - ETA: 0s - loss: 1.7367 - acc: 0.5114Epoch 1/100\n",
            "77/77 [==============================] - 82s 1s/step - loss: 1.7398 - acc: 0.5101 - val_loss: 2.1363 - val_acc: 0.4513\n",
            "Epoch 40/100\n",
            "76/77 [============================>.] - ETA: 0s - loss: 1.7159 - acc: 0.5220Epoch 1/100\n",
            "77/77 [==============================] - 82s 1s/step - loss: 1.7172 - acc: 0.5213 - val_loss: 2.1110 - val_acc: 0.4538\n",
            "Epoch 41/100\n",
            "76/77 [============================>.] - ETA: 0s - loss: 1.6693 - acc: 0.5266Epoch 1/100\n",
            "77/77 [==============================] - 82s 1s/step - loss: 1.6694 - acc: 0.5271 - val_loss: 1.9691 - val_acc: 0.4838\n",
            "Epoch 42/100\n",
            "76/77 [============================>.] - ETA: 0s - loss: 1.6689 - acc: 0.5279Epoch 1/100\n",
            "77/77 [==============================] - 82s 1s/step - loss: 1.6701 - acc: 0.5285 - val_loss: 1.9584 - val_acc: 0.4923\n",
            "Epoch 43/100\n",
            "76/77 [============================>.] - ETA: 0s - loss: 1.6064 - acc: 0.5451Epoch 1/100\n",
            "77/77 [==============================] - 82s 1s/step - loss: 1.6072 - acc: 0.5445 - val_loss: 1.9611 - val_acc: 0.4966\n",
            "Epoch 44/100\n",
            "76/77 [============================>.] - ETA: 0s - loss: 1.5356 - acc: 0.5553Epoch 1/100\n",
            "77/77 [==============================] - 82s 1s/step - loss: 1.5371 - acc: 0.5548 - val_loss: 2.0485 - val_acc: 0.4819\n",
            "Epoch 45/100\n",
            "76/77 [============================>.] - ETA: 0s - loss: 1.5816 - acc: 0.5534Epoch 1/100\n",
            "77/77 [==============================] - 82s 1s/step - loss: 1.5816 - acc: 0.5531 - val_loss: 1.9732 - val_acc: 0.4948\n",
            "Epoch 46/100\n",
            "76/77 [============================>.] - ETA: 0s - loss: 1.5003 - acc: 0.5707Epoch 1/100\n",
            "77/77 [==============================] - 82s 1s/step - loss: 1.4984 - acc: 0.5716 - val_loss: 1.9742 - val_acc: 0.4948\n",
            "Epoch 47/100\n",
            "76/77 [============================>.] - ETA: 0s - loss: 1.5613 - acc: 0.5580Epoch 1/100\n",
            "77/77 [==============================] - 82s 1s/step - loss: 1.5581 - acc: 0.5593 - val_loss: 1.9567 - val_acc: 0.4979\n",
            "Epoch 48/100\n",
            "76/77 [============================>.] - ETA: 0s - loss: 1.4979 - acc: 0.5723Epoch 1/100\n",
            "77/77 [==============================] - 81s 1s/step - loss: 1.4996 - acc: 0.5726 - val_loss: 1.9576 - val_acc: 0.5211\n",
            "Epoch 49/100\n",
            "76/77 [============================>.] - ETA: 0s - loss: 1.4333 - acc: 0.5904Epoch 1/100\n",
            "77/77 [==============================] - 82s 1s/step - loss: 1.4367 - acc: 0.5895 - val_loss: 1.9330 - val_acc: 0.5058\n",
            "Epoch 50/100\n",
            "76/77 [============================>.] - ETA: 0s - loss: 1.4618 - acc: 0.5836Epoch 1/100\n",
            "77/77 [==============================] - 82s 1s/step - loss: 1.4610 - acc: 0.5833 - val_loss: 1.8695 - val_acc: 0.5144\n",
            "Epoch 51/100\n",
            "76/77 [============================>.] - ETA: 0s - loss: 1.3815 - acc: 0.5975Epoch 1/100\n",
            "77/77 [==============================] - 82s 1s/step - loss: 1.3850 - acc: 0.5977 - val_loss: 1.9458 - val_acc: 0.5162\n",
            "Epoch 52/100\n",
            "76/77 [============================>.] - ETA: 0s - loss: 1.3804 - acc: 0.5985Epoch 1/100\n",
            "77/77 [==============================] - 82s 1s/step - loss: 1.3782 - acc: 0.5991 - val_loss: 1.9103 - val_acc: 0.5058\n",
            "Epoch 53/100\n",
            "76/77 [============================>.] - ETA: 0s - loss: 1.3877 - acc: 0.6000Epoch 1/100\n",
            "77/77 [==============================] - 82s 1s/step - loss: 1.3819 - acc: 0.6020 - val_loss: 1.8587 - val_acc: 0.5383\n",
            "Epoch 54/100\n",
            "76/77 [============================>.] - ETA: 0s - loss: 1.3328 - acc: 0.6027Epoch 1/100\n",
            "77/77 [==============================] - 82s 1s/step - loss: 1.3365 - acc: 0.6026 - val_loss: 1.8012 - val_acc: 0.5242\n",
            "Epoch 55/100\n",
            "76/77 [============================>.] - ETA: 0s - loss: 1.2740 - acc: 0.6214Epoch 1/100\n",
            "77/77 [==============================] - 82s 1s/step - loss: 1.2758 - acc: 0.6215 - val_loss: 1.8581 - val_acc: 0.5279\n",
            "Epoch 56/100\n",
            "76/77 [============================>.] - ETA: 0s - loss: 1.3018 - acc: 0.6247Epoch 1/100\n",
            "77/77 [==============================] - 82s 1s/step - loss: 1.3049 - acc: 0.6237 - val_loss: 1.8698 - val_acc: 0.5236\n",
            "Epoch 57/100\n",
            "76/77 [============================>.] - ETA: 0s - loss: 1.3369 - acc: 0.6160Epoch 1/100\n",
            "77/77 [==============================] - 82s 1s/step - loss: 1.3372 - acc: 0.6155 - val_loss: 1.7770 - val_acc: 0.5499\n",
            "Epoch 58/100\n",
            "76/77 [============================>.] - ETA: 0s - loss: 1.2886 - acc: 0.6235Epoch 1/100\n",
            "77/77 [==============================] - 82s 1s/step - loss: 1.2877 - acc: 0.6237 - val_loss: 1.7625 - val_acc: 0.5487\n",
            "Epoch 59/100\n",
            "76/77 [============================>.] - ETA: 0s - loss: 1.2512 - acc: 0.6362Epoch 1/100\n",
            "77/77 [==============================] - 82s 1s/step - loss: 1.2506 - acc: 0.6366 - val_loss: 1.7593 - val_acc: 0.5493\n",
            "Epoch 60/100\n",
            "76/77 [============================>.] - ETA: 0s - loss: 1.2112 - acc: 0.6493Epoch 1/100\n",
            "77/77 [==============================] - 82s 1s/step - loss: 1.2064 - acc: 0.6500 - val_loss: 1.8154 - val_acc: 0.5481\n",
            "Epoch 61/100\n",
            "76/77 [============================>.] - ETA: 0s - loss: 1.2016 - acc: 0.6435Epoch 1/100\n",
            "77/77 [==============================] - 82s 1s/step - loss: 1.2030 - acc: 0.6430 - val_loss: 1.7546 - val_acc: 0.5658\n",
            "Epoch 62/100\n",
            "76/77 [============================>.] - ETA: 0s - loss: 1.1859 - acc: 0.6522Epoch 1/100\n",
            "77/77 [==============================] - 82s 1s/step - loss: 1.1887 - acc: 0.6512 - val_loss: 1.7495 - val_acc: 0.5713\n",
            "Epoch 63/100\n",
            "76/77 [============================>.] - ETA: 0s - loss: 1.1628 - acc: 0.6536Epoch 1/100\n",
            "77/77 [==============================] - 82s 1s/step - loss: 1.1636 - acc: 0.6529 - val_loss: 1.6976 - val_acc: 0.5885\n",
            "Epoch 64/100\n",
            "76/77 [============================>.] - ETA: 0s - loss: 1.1102 - acc: 0.6661Epoch 1/100\n",
            "77/77 [==============================] - 82s 1s/step - loss: 1.1145 - acc: 0.6650 - val_loss: 1.7302 - val_acc: 0.5860\n",
            "Epoch 65/100\n",
            "76/77 [============================>.] - ETA: 0s - loss: 1.1371 - acc: 0.6655Epoch 1/100\n",
            "77/77 [==============================] - 82s 1s/step - loss: 1.1387 - acc: 0.6654 - val_loss: 1.7143 - val_acc: 0.5799\n",
            "Epoch 66/100\n",
            "76/77 [============================>.] - ETA: 0s - loss: 1.0994 - acc: 0.6703Epoch 1/100\n",
            "77/77 [==============================] - 82s 1s/step - loss: 1.1004 - acc: 0.6699 - val_loss: 1.7010 - val_acc: 0.5860\n",
            "Epoch 67/100\n",
            "76/77 [============================>.] - ETA: 0s - loss: 1.0561 - acc: 0.6871Epoch 1/100\n",
            "77/77 [==============================] - 81s 1s/step - loss: 1.0578 - acc: 0.6873 - val_loss: 1.7645 - val_acc: 0.5830\n",
            "Epoch 68/100\n",
            "76/77 [============================>.] - ETA: 0s - loss: 1.0821 - acc: 0.6819Epoch 1/100\n",
            "77/77 [==============================] - 82s 1s/step - loss: 1.0819 - acc: 0.6824 - val_loss: 1.7395 - val_acc: 0.5769\n",
            "Epoch 69/100\n",
            "76/77 [============================>.] - ETA: 0s - loss: 1.0439 - acc: 0.6875Epoch 1/100\n",
            "77/77 [==============================] - 82s 1s/step - loss: 1.0475 - acc: 0.6861 - val_loss: 1.8779 - val_acc: 0.5652\n",
            "Epoch 70/100\n",
            "76/77 [============================>.] - ETA: 0s - loss: 1.0210 - acc: 0.6985Epoch 1/100\n",
            "77/77 [==============================] - 82s 1s/step - loss: 1.0210 - acc: 0.6986 - val_loss: 1.7778 - val_acc: 0.5799\n",
            "Epoch 71/100\n",
            "76/77 [============================>.] - ETA: 0s - loss: 1.0235 - acc: 0.6948Epoch 1/100\n",
            "77/77 [==============================] - 82s 1s/step - loss: 1.0268 - acc: 0.6935 - val_loss: 1.8182 - val_acc: 0.5640\n",
            "Epoch 72/100\n",
            "76/77 [============================>.] - ETA: 0s - loss: 1.0462 - acc: 0.6861Epoch 1/100\n",
            "77/77 [==============================] - 82s 1s/step - loss: 1.0478 - acc: 0.6853 - val_loss: 1.8656 - val_acc: 0.5769\n",
            "Epoch 73/100\n",
            "76/77 [============================>.] - ETA: 0s - loss: 1.0037 - acc: 0.7056Epoch 1/100\n",
            "77/77 [==============================] - 82s 1s/step - loss: 1.0047 - acc: 0.7052 - val_loss: 1.7356 - val_acc: 0.5971\n",
            "Epoch 74/100\n",
            "76/77 [============================>.] - ETA: 0s - loss: 1.0001 - acc: 0.7044Epoch 1/100\n",
            "77/77 [==============================] - 82s 1s/step - loss: 0.9995 - acc: 0.7052 - val_loss: 1.6577 - val_acc: 0.5952\n",
            "Epoch 75/100\n",
            "76/77 [============================>.] - ETA: 0s - loss: 1.0000 - acc: 0.7037Epoch 1/100\n",
            "77/77 [==============================] - 82s 1s/step - loss: 1.0001 - acc: 0.7041 - val_loss: 1.7152 - val_acc: 0.5909\n",
            "Epoch 76/100\n",
            "76/77 [============================>.] - ETA: 0s - loss: 1.0055 - acc: 0.6946Epoch 1/100\n",
            "77/77 [==============================] - 82s 1s/step - loss: 1.0050 - acc: 0.6939 - val_loss: 1.5716 - val_acc: 0.6013\n",
            "Epoch 77/100\n",
            "76/77 [============================>.] - ETA: 0s - loss: 0.9605 - acc: 0.7108Epoch 1/100\n",
            "77/77 [==============================] - 82s 1s/step - loss: 0.9590 - acc: 0.7107 - val_loss: 1.6828 - val_acc: 0.5952\n",
            "Epoch 78/100\n",
            "76/77 [============================>.] - ETA: 0s - loss: 0.9504 - acc: 0.7110Epoch 1/100\n",
            "77/77 [==============================] - 82s 1s/step - loss: 0.9544 - acc: 0.7109 - val_loss: 1.6759 - val_acc: 0.5940\n",
            "Epoch 79/100\n",
            "76/77 [============================>.] - ETA: 0s - loss: 0.9273 - acc: 0.7241Epoch 1/100\n",
            "77/77 [==============================] - 82s 1s/step - loss: 0.9304 - acc: 0.7228 - val_loss: 1.6730 - val_acc: 0.5977\n",
            "Epoch 80/100\n",
            "76/77 [============================>.] - ETA: 0s - loss: 0.9265 - acc: 0.7210Epoch 1/100\n",
            "77/77 [==============================] - 82s 1s/step - loss: 0.9268 - acc: 0.7210 - val_loss: 1.6840 - val_acc: 0.5995\n",
            "Epoch 81/100\n",
            "76/77 [============================>.] - ETA: 0s - loss: 0.9255 - acc: 0.7189Epoch 1/100\n",
            "77/77 [==============================] - 82s 1s/step - loss: 0.9273 - acc: 0.7183 - val_loss: 1.7003 - val_acc: 0.5946\n",
            "Epoch 82/100\n",
            "76/77 [============================>.] - ETA: 0s - loss: 0.9078 - acc: 0.7260Epoch 1/100\n",
            "77/77 [==============================] - 82s 1s/step - loss: 0.9058 - acc: 0.7269 - val_loss: 1.7083 - val_acc: 0.6093\n",
            "Epoch 83/100\n",
            "76/77 [============================>.] - ETA: 0s - loss: 0.8905 - acc: 0.7304Epoch 1/100\n",
            "77/77 [==============================] - 82s 1s/step - loss: 0.8866 - acc: 0.7314 - val_loss: 1.6778 - val_acc: 0.6062\n",
            "Epoch 84/100\n",
            "76/77 [============================>.] - ETA: 0s - loss: 0.9240 - acc: 0.7258Epoch 1/100\n",
            "77/77 [==============================] - 82s 1s/step - loss: 0.9225 - acc: 0.7257 - val_loss: 1.6540 - val_acc: 0.6130\n",
            "Epoch 85/100\n",
            "76/77 [============================>.] - ETA: 0s - loss: 0.8878 - acc: 0.7318Epoch 1/100\n",
            "77/77 [==============================] - 82s 1s/step - loss: 0.8886 - acc: 0.7312 - val_loss: 1.6886 - val_acc: 0.5836\n",
            "Epoch 86/100\n",
            "76/77 [============================>.] - ETA: 0s - loss: 0.8755 - acc: 0.7347Epoch 1/100\n",
            "77/77 [==============================] - 82s 1s/step - loss: 0.8720 - acc: 0.7368 - val_loss: 1.6986 - val_acc: 0.6130\n",
            "Epoch 87/100\n",
            "76/77 [============================>.] - ETA: 0s - loss: 0.8794 - acc: 0.7289Epoch 1/100\n",
            "77/77 [==============================] - 82s 1s/step - loss: 0.8791 - acc: 0.7288 - val_loss: 1.6085 - val_acc: 0.6246\n",
            "Epoch 88/100\n",
            "76/77 [============================>.] - ETA: 0s - loss: 0.8220 - acc: 0.7499Epoch 1/100\n",
            "77/77 [==============================] - 82s 1s/step - loss: 0.8208 - acc: 0.7503 - val_loss: 1.6519 - val_acc: 0.6228\n",
            "Epoch 89/100\n",
            "76/77 [============================>.] - ETA: 0s - loss: 0.8053 - acc: 0.7568Epoch 1/100\n",
            "77/77 [==============================] - 82s 1s/step - loss: 0.8044 - acc: 0.7561 - val_loss: 1.6131 - val_acc: 0.6191\n",
            "Epoch 90/100\n",
            "76/77 [============================>.] - ETA: 0s - loss: 0.7961 - acc: 0.7574Epoch 1/100\n",
            "77/77 [==============================] - 82s 1s/step - loss: 0.7950 - acc: 0.7587 - val_loss: 1.6997 - val_acc: 0.5971\n",
            "Epoch 91/100\n",
            "76/77 [============================>.] - ETA: 0s - loss: 0.8463 - acc: 0.7393Epoch 1/100\n",
            "77/77 [==============================] - 82s 1s/step - loss: 0.8459 - acc: 0.7392 - val_loss: 1.6461 - val_acc: 0.6056\n",
            "Epoch 92/100\n",
            "76/77 [============================>.] - ETA: 0s - loss: 0.8153 - acc: 0.7489Epoch 1/100\n",
            "77/77 [==============================] - 82s 1s/step - loss: 0.8167 - acc: 0.7481 - val_loss: 1.6656 - val_acc: 0.6209\n",
            "Epoch 93/100\n",
            "76/77 [============================>.] - ETA: 0s - loss: 0.8026 - acc: 0.7593Epoch 1/100\n",
            "77/77 [==============================] - 82s 1s/step - loss: 0.8043 - acc: 0.7581 - val_loss: 1.6955 - val_acc: 0.6295\n",
            "Epoch 94/100\n",
            "76/77 [============================>.] - ETA: 0s - loss: 0.7735 - acc: 0.7669Epoch 1/100\n",
            "77/77 [==============================] - 81s 1s/step - loss: 0.7757 - acc: 0.7661 - val_loss: 1.7172 - val_acc: 0.6240\n",
            "Epoch 95/100\n",
            "76/77 [============================>.] - ETA: 0s - loss: 0.7567 - acc: 0.7607Epoch 1/100\n",
            "77/77 [==============================] - 82s 1s/step - loss: 0.7596 - acc: 0.7604 - val_loss: 1.7808 - val_acc: 0.6209\n",
            "Epoch 96/100\n",
            "76/77 [============================>.] - ETA: 0s - loss: 0.7671 - acc: 0.7674Epoch 1/100\n",
            "77/77 [==============================] - 81s 1s/step - loss: 0.7673 - acc: 0.7677 - val_loss: 1.6864 - val_acc: 0.6234\n",
            "Epoch 97/100\n",
            "76/77 [============================>.] - ETA: 0s - loss: 0.7625 - acc: 0.7628Epoch 1/100\n",
            "77/77 [==============================] - 81s 1s/step - loss: 0.7629 - acc: 0.7624 - val_loss: 1.7129 - val_acc: 0.6148\n",
            "Epoch 98/100\n",
            "76/77 [============================>.] - ETA: 0s - loss: 0.7129 - acc: 0.7778Epoch 1/100\n",
            "77/77 [==============================] - 81s 1s/step - loss: 0.7171 - acc: 0.7770 - val_loss: 1.6269 - val_acc: 0.6228\n",
            "Epoch 99/100\n",
            "76/77 [============================>.] - ETA: 0s - loss: 0.7963 - acc: 0.7593Epoch 1/100\n",
            "77/77 [==============================] - 82s 1s/step - loss: 0.7971 - acc: 0.7585 - val_loss: 1.7128 - val_acc: 0.6369\n",
            "Epoch 100/100\n",
            "76/77 [============================>.] - ETA: 0s - loss: 0.7375 - acc: 0.7690Epoch 1/100\n",
            "77/77 [==============================] - 82s 1s/step - loss: 0.7390 - acc: 0.7684 - val_loss: 1.7330 - val_acc: 0.6222\n"
          ],
          "name": "stdout"
        },
        {
          "output_type": "execute_result",
          "data": {
            "text/plain": [
              "<tensorflow.python.keras.callbacks.History at 0x7ff64814cb00>"
            ]
          },
          "metadata": {
            "tags": []
          },
          "execution_count": 61
        }
      ]
    },
    {
      "cell_type": "code",
      "metadata": {
        "id": "njj5c_akQZyW",
        "colab_type": "code",
        "colab": {}
      },
      "source": [
        "model.save('sequential_sravani')"
      ],
      "execution_count": 0,
      "outputs": []
    },
    {
      "cell_type": "code",
      "metadata": {
        "id": "_cTok3GjQZye",
        "colab_type": "code",
        "colab": {}
      },
      "source": [
        "model.save_weights('sequential_sravani')"
      ],
      "execution_count": 0,
      "outputs": []
    },
    {
      "cell_type": "code",
      "metadata": {
        "id": "WQngXOvjQZyq",
        "colab_type": "code",
        "outputId": "cf9c91ed-1d1d-466d-ab4b-3bb38026eb00",
        "colab": {
          "base_uri": "https://localhost:8080/",
          "height": 34
        }
      },
      "source": [
        "model.evaluate_generator(test_data_gen)"
      ],
      "execution_count": 0,
      "outputs": [
        {
          "output_type": "execute_result",
          "data": {
            "text/plain": [
              "[1.9852624579712197, 0.57455623]"
            ]
          },
          "metadata": {
            "tags": []
          },
          "execution_count": 64
        }
      ]
    },
    {
      "cell_type": "code",
      "metadata": {
        "id": "EtMhxaXTQZyy",
        "colab_type": "code",
        "outputId": "0d5db6d3-09d9-422b-a71f-f83eea86d7a9",
        "colab": {
          "base_uri": "https://localhost:8080/",
          "height": 34
        }
      },
      "source": [
        "model.evaluate_generator(train_data_gen)"
      ],
      "execution_count": 0,
      "outputs": [
        {
          "output_type": "execute_result",
          "data": {
            "text/plain": [
              "[0.4593459375492938, 0.8633566]"
            ]
          },
          "metadata": {
            "tags": []
          },
          "execution_count": 65
        }
      ]
    },
    {
      "cell_type": "code",
      "metadata": {
        "id": "AMX_qS9cQZy6",
        "colab_type": "code",
        "outputId": "3d1fdf58-f914-4c45-e9a1-da51ed2f8c5a",
        "colab": {
          "base_uri": "https://localhost:8080/",
          "height": 34
        }
      },
      "source": [
        "model.evaluate_generator(valid_data_gen)"
      ],
      "execution_count": 0,
      "outputs": [
        {
          "output_type": "execute_result",
          "data": {
            "text/plain": [
              "[1.7329891599141634, 0.62216777]"
            ]
          },
          "metadata": {
            "tags": []
          },
          "execution_count": 66
        }
      ]
    }
  ]
}